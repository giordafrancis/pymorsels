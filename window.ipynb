{
 "cells": [
  {
   "cell_type": "markdown",
   "metadata": {},
   "source": [
    "# Window"
   ]
  },
  {
   "cell_type": "markdown",
   "metadata": {
    "tags": [
     "generators",
     "iterators",
     "positional",
     "argument"
    ]
   },
   "source": [
    "Hi!\n",
    "\n",
    "This week I'd like you to write a function that returns \"windows\" of items from a given list. Your function should take an iterable and a number n and return a list of tuples, each containing \"windows\" of n consecutive items. That is, each tuple should contain the current item and the n-1 items after it.\n",
    "\n",
    "Here are some examples:\n",
    "\n",
    "```\n",
    ">>> numbers = [1, 2, 3, 4, 5, 6]\n",
    ">>> window(numbers, 2)\n",
    "[(1, 2), (2, 3), (3, 4), (4, 5), (5, 6)]\n",
    ">>> window(numbers, 3)\n",
    "[(1, 2, 3), (2, 3, 4), (3, 4, 5), (4, 5, 6)]\n",
    ">>> squares = (n**2 for n in numbers)\n",
    ">>> window(squares, 4)\n",
    "[(1, 4, 9, 16), (4, 9, 16, 25), (9, 16, 25, 36)]\n",
    "```\n",
    "Your window function should return an empty list if the given n is 0. It should also be to accept strings, tuples, and any other iterables.\n",
    "\n",
    "I recommend solving the base problem before any of the bonuses this week."
   ]
  },
  {
   "cell_type": "code",
   "execution_count": 191,
   "metadata": {},
   "outputs": [],
   "source": [
    "from collections import deque\n",
    "\n",
    "def window(iterable, n, *, fillvalue=0):\n",
    "    \"\"\"\n",
    "    Create rolling window of chunks\n",
    "    in an iterable.\n",
    "    \"\"\"\n",
    "    if not n:\n",
    "        return\n",
    "    iterator = iter(iterable)\n",
    "    queue = deque(maxlen=n)\n",
    "    for _ in range(n):\n",
    "        # using fillvalue as a sentinel instead of stop iter\n",
    "        queue.append(next(iterator, fillvalue))\n",
    "    yield tuple(queue)\n",
    "    for item in iterator:\n",
    "        queue.append(item)\n",
    "        yield tuple(queue)"
   ]
  },
  {
   "cell_type": "code",
   "execution_count": 194,
   "metadata": {},
   "outputs": [],
   "source": [
    "numbers = [1, 2, 3, 4, 5, 6]\n",
    "assert list(window(numbers, 2)) == [(1, 2), (2, 3), (3, 4), (4, 5), (5, 6)]\n",
    "assert list(window(numbers, 3)) == [(1, 2, 3), (2, 3, 4), (3, 4, 5), (4, 5, 6)]\n",
    "squares = (n**2 for n in numbers)\n",
    "assert list(window(squares, 4)) == [(1, 4, 9, 16), (4, 9, 16, 25),\n",
    "                                    (9, 16, 25, 36)]\n",
    "assert list(window([1, 2, 3], 6)) == [(1, 2, 3, 0, 0, 0)]\n",
    "assert list(window([1, 2, 3], 6, fillvalue=0)) == [(1, 2, 3, 0, 0, 0)]"
   ]
  }
 ],
 "metadata": {
  "kernelspec": {
   "display_name": "Python 3",
   "language": "python",
   "name": "python3"
  },
  "language_info": {
   "codemirror_mode": {
    "name": "ipython",
    "version": 3
   },
   "file_extension": ".py",
   "mimetype": "text/x-python",
   "name": "python",
   "nbconvert_exporter": "python",
   "pygments_lexer": "ipython3",
   "version": "3.8.5"
  }
 },
 "nbformat": 4,
 "nbformat_minor": 4
}
