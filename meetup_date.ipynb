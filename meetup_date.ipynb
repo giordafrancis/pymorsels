{
 "cells": [
  {
   "cell_type": "markdown",
   "metadata": {
    "tags": [
     "datetime",
     "calendar",
     "timedelta"
    ]
   },
   "source": [
    "### Meetup date\n",
    "This week I'd like you to create a function that determines which day of the month the San Diego Python meetup should be. The San Diego Python meetup is on the fourth Thursday of the month (ignoring US holidays, during which we reschedule it).\n",
    "\n",
    "Your function should accept year and month arguments and should return a datetime.date object representing the day of the month for the meetup.\n",
    "\n",
    "\n",
    "```\n",
    ">>> meetup_date(2012, 3)\n",
    "datetime.date(2012, 3, 22)\n",
    ">>> meetup_date(2015, 2)\n",
    "datetime.date(2015, 2, 26)\n",
    ">>> meetup_date(2018, 6)\n",
    "datetime.date(2018, 6, 28)\n",
    ">>> meetup_date(2020, 1)\n",
    "datetime.date(2020, 1, 23)\n",
    "```"
   ]
  },
  {
   "cell_type": "code",
   "execution_count": 95,
   "metadata": {},
   "outputs": [],
   "source": [
    "# my solution\n",
    "\n",
    "import datetime\n",
    "import calendar\n",
    "from enum import IntEnum\n",
    "\n",
    "class Weekday(IntEnum): \n",
    "    MONDAY = 0\n",
    "    TUESDAY = 1\n",
    "    WEDNESDAY = 2\n",
    "    THURSDAY = 3\n",
    "    FRIDAY = 4\n",
    "    SATURDAY = 5\n",
    "    SUNDAY = 6\n",
    "\n",
    "def meetup_date(year:int, month:int, nth:int=4, weekday:Weekday=Weekday.THURSDAY) -> datetime.date:\n",
    "    \"\"\"\n",
    "    function accepts month and year as int returns meetup date\n",
    "    \"\"\"\n",
    "    month_cal = calendar.monthcalendar(year = year, month = month)\n",
    "    month_cal = month_cal[::-1].copy() if nth < 0 else month_cal\n",
    "    weekday = weekday.value if isinstance(weekday, Weekday) else weekday\n",
    "    nth = abs(nth)\n",
    "    day_count = 0\n",
    "    for week in month_cal:\n",
    "        day_value = week[weekday]\n",
    "        if day_value == 0:\n",
    "            pass\n",
    "        else:\n",
    "            day_count += 1\n",
    "        if day_count == nth:\n",
    "            return datetime.date(year=year,\n",
    "                                 month=month,\n",
    "                                 day=day_value)"
   ]
  },
  {
   "cell_type": "code",
   "execution_count": 83,
   "metadata": {},
   "outputs": [
    {
     "name": "stdout",
     "output_type": "stream",
     "text": [
      "SDJS 2012-02-07\n",
      "PyLadies 2018-07-11\n",
      "SDHN 2020-10-30\n"
     ]
    }
   ],
   "source": [
    "print(\"SDJS\", meetup_date(2012, 2, nth=1, weekday=Weekday.TUESDAY))\n",
    "print(\"PyLadies\", meetup_date(2018, 7, nth=2, weekday=Weekday.WEDNESDAY))\n",
    "print(\"SDHN\", meetup_date(2020, 10, nth=-1, weekday=Weekday.FRIDAY))"
   ]
  },
  {
   "cell_type": "code",
   "execution_count": 79,
   "metadata": {},
   "outputs": [],
   "source": [
    "# Treys solution does deal with negative but uses time offset from date time\n",
    "\n",
    "THURSDAY = 3\n",
    "def meetup_date(year, month, *, nth=4, weekday=THURSDAY):\n",
    "    \"\"\"Return date of the nth weekday of the given month.\"\"\"\n",
    "    first_day_of_the_month = datetime.date(year, month, 1)\n",
    "    #print(first_day_of_the_month.weekday())\n",
    "    shift = datetime.timedelta((weekday - first_day_of_the_month.weekday()) % 7)\n",
    "    #print(shift)\n",
    "    return first_day_of_the_month + shift + datetime.timedelta(weeks=nth-1)"
   ]
  },
  {
   "cell_type": "code",
   "execution_count": 86,
   "metadata": {},
   "outputs": [
    {
     "name": "stdout",
     "output_type": "stream",
     "text": [
      "weekday number 6\n",
      "5 days, 0:00:00\n",
      "2020-11-06\n",
      "2020-11-27\n"
     ]
    }
   ],
   "source": [
    "# breakdown assume 4th Friday of Nov 2020\n",
    "FRIDAY = 4\n",
    "fdm = first_day_of_the_month = datetime.date(2020, 11, 1)\n",
    "print(\"weekday number\", fdm.weekday())\n",
    "shift = datetime.timedelta((FRIDAY - fdm.weekday()) % 7)\n",
    "print(shift)\n",
    "print(first_day_of_the_month + shift) # first Fri Nov 2020\n",
    "print(first_day_of_the_month + shift + datetime.timedelta(weeks=4-1)) # 4th Friday zero indexed "
   ]
  },
  {
   "cell_type": "code",
   "execution_count": 87,
   "metadata": {},
   "outputs": [],
   "source": [
    "# Treys Calendar solution my favourite\n",
    "\n",
    "from datetime import date\n",
    "from calendar import monthcalendar\n",
    "\n",
    "def weekdays_in_month(year, month, weekday):\n",
    "    \"\"\"Return list of all 4/5 dates with given weekday and year/month.\"\"\"\n",
    "    return [\n",
    "        date(year, month, week[weekday.value])\n",
    "        for week in monthcalendar(year, month)\n",
    "        if week[weekday] != 0\n",
    "    ]\n",
    "\n",
    "def meetup_date(year, month, *, nth=4, weekday=Weekday.THURSDAY):\n",
    "    \"\"\"Return date of the nth weekday of the given month.\"\"\"\n",
    "    return weekdays_in_month(year, month, weekday)[nth-1 if nth > 0 else nth]"
   ]
  },
  {
   "cell_type": "code",
   "execution_count": 88,
   "metadata": {},
   "outputs": [
    {
     "name": "stdout",
     "output_type": "stream",
     "text": [
      "SDJS 2012-02-07\n",
      "PyLadies 2018-07-11\n",
      "SDHN 2020-10-30\n"
     ]
    }
   ],
   "source": [
    "print(\"SDJS\", meetup_date(2012, 2, nth=1, weekday=Weekday.TUESDAY))\n",
    "print(\"PyLadies\", meetup_date(2018, 7, nth=2, weekday=Weekday.WEDNESDAY))\n",
    "print(\"SDHN\", meetup_date(2020, 10, nth=-1, weekday=Weekday.FRIDAY))"
   ]
  }
 ],
 "metadata": {
  "kernelspec": {
   "display_name": "Python 3",
   "language": "python",
   "name": "python3"
  },
  "language_info": {
   "codemirror_mode": {
    "name": "ipython",
    "version": 3
   },
   "file_extension": ".py",
   "mimetype": "text/x-python",
   "name": "python",
   "nbconvert_exporter": "python",
   "pygments_lexer": "ipython3",
   "version": "3.8.5"
  },
  "toc-showtags": true
 },
 "nbformat": 4,
 "nbformat_minor": 4
}
